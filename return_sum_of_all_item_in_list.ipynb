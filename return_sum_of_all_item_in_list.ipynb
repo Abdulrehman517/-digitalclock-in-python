{
  "nbformat": 4,
  "nbformat_minor": 0,
  "metadata": {
    "colab": {
      "name": "return sum of all item in list",
      "provenance": [],
      "authorship_tag": "ABX9TyMYNmaHDfSmrVkujiyRoO74",
      "include_colab_link": true
    },
    "kernelspec": {
      "name": "python3",
      "display_name": "Python 3"
    },
    "language_info": {
      "name": "python"
    }
  },
  "cells": [
    {
      "cell_type": "markdown",
      "metadata": {
        "id": "view-in-github",
        "colab_type": "text"
      },
      "source": [
        "<a href=\"https://colab.research.google.com/github/Abdulrehman517/-digitalclock-in-python/blob/main/return_sum_of_all_item_in_list.ipynb\" target=\"_parent\"><img src=\"https://colab.research.google.com/assets/colab-badge.svg\" alt=\"Open In Colab\"/></a>"
      ]
    },
    {
      "cell_type": "code",
      "execution_count": 4,
      "metadata": {
        "colab": {
          "base_uri": "https://localhost:8080/"
        },
        "id": "prtSEcU2ran3",
        "outputId": "a76b40b6-d305-41cf-a467-3a32ef28fb5a"
      },
      "outputs": [
        {
          "output_type": "stream",
          "name": "stdout",
          "text": [
            "-4\n"
          ]
        }
      ],
      "source": [
        "ls = [1,2,4,-5,-6]\n",
        "sum_number = 0\n",
        "for l in ls:\n",
        "  sum_number += l\n",
        "print(sum_number)"
      ]
    }
  ]
}